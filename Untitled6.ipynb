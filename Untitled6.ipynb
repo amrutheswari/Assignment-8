{
  "nbformat": 4,
  "nbformat_minor": 0,
  "metadata": {
    "colab": {
      "name": "Untitled6.ipynb",
      "provenance": [],
      "authorship_tag": "ABX9TyNyy/V7uC+zw5VEO/xvqQnF",
      "include_colab_link": true
    },
    "kernelspec": {
      "name": "python3",
      "display_name": "Python 3"
    }
  },
  "cells": [
    {
      "cell_type": "markdown",
      "metadata": {
        "id": "view-in-github",
        "colab_type": "text"
      },
      "source": [
        "<a href=\"https://colab.research.google.com/github/amrutheswari/Assignment-8/blob/master/Untitled6.ipynb\" target=\"_parent\"><img src=\"https://colab.research.google.com/assets/colab-badge.svg\" alt=\"Open In Colab\"/></a>"
      ]
    },
    {
      "cell_type": "code",
      "metadata": {
        "id": "GPjMC96iLLOJ",
        "colab_type": "code",
        "colab": {
          "base_uri": "https://localhost:8080/",
          "height": 34
        },
        "outputId": "6cb66f33-090d-4416-b623-151e277971a3"
      },
      "source": [
        "#1.\tWrite a Python program to calculate the length of a string.\n",
        "def stringlength(str1):\n",
        "    count=0\n",
        "    for char in str1:\n",
        "        count +=1\n",
        "    return count\n",
        "print(stringlength('gitam'))        "
      ],
      "execution_count": 8,
      "outputs": [
        {
          "output_type": "stream",
          "text": [
            "5\n"
          ],
          "name": "stdout"
        }
      ]
    },
    {
      "cell_type": "code",
      "metadata": {
        "id": "lAvns6Z7LeGL",
        "colab_type": "code",
        "colab": {
          "base_uri": "https://localhost:8080/",
          "height": 34
        },
        "outputId": "6eff97cb-ddbc-4715-c97b-f08785ee149e"
      },
      "source": [
        "#a Python program to count the number of characters  in a string.\n",
        "def char_frequency(str1):\n",
        "    dict = {}\n",
        "    for n in str1:\n",
        "        keys = dict.keys()\n",
        "        if n in keys:\n",
        "            dict[n] += 1\n",
        "        else:\n",
        "            dict[n] = 1\n",
        "    return dict\n",
        "print(char_frequency('python class'))\n"
      ],
      "execution_count": 10,
      "outputs": [
        {
          "output_type": "stream",
          "text": [
            "{'p': 1, 'y': 1, 't': 1, 'h': 1, 'o': 1, 'n': 1, ' ': 1, 'c': 1, 'l': 1, 'a': 1, 's': 2}\n"
          ],
          "name": "stdout"
        }
      ]
    },
    {
      "cell_type": "code",
      "metadata": {
        "id": "o69mDOXXNNhs",
        "colab_type": "code",
        "colab": {
          "base_uri": "https://localhost:8080/",
          "height": 67
        },
        "outputId": "d43baffd-304b-4f74-e05a-02e417e8e79f"
      },
      "source": [
        "#a Python program to get a single string from two given strings, separated by a space and swap the first two characters of each string\n",
        "a=input(\"enter 1st string\")\n",
        "\n",
        "b=input(\"enter 2nd string\")\n",
        "\n",
        "x=a[0:2]\n",
        "\n",
        "a=a.replace(a[0:2],b[0:2])\n",
        "\n",
        "b=b.replace(b[0:2],x)\n",
        "\n",
        "print(a,b)"
      ],
      "execution_count": 14,
      "outputs": [
        {
          "output_type": "stream",
          "text": [
            "enter 1st stringcomputer\n",
            "enter 2nd stringscience\n",
            "scmputer coience\n"
          ],
          "name": "stdout"
        }
      ]
    },
    {
      "cell_type": "code",
      "metadata": {
        "id": "YUNRvMLQOULh",
        "colab_type": "code",
        "colab": {
          "base_uri": "https://localhost:8080/",
          "height": 67
        },
        "outputId": "7e58e4a6-5f7f-4b9d-c7c2-832424581204"
      },
      "source": [
        "#a Python script that takes input from the user and displays that input back in upper and lower cases\n",
        "user_input = input(\"What's your favourite place? \")\n",
        "print(\"My favourite language is \", user_input.upper())\n",
        "print(\"My favourite language is \", user_input.lower())\n"
      ],
      "execution_count": 15,
      "outputs": [
        {
          "output_type": "stream",
          "text": [
            "What's your favourite place? paris\n",
            "My favourite language is  PARIS\n",
            "My favourite language is  paris\n"
          ],
          "name": "stdout"
        }
      ]
    },
    {
      "cell_type": "code",
      "metadata": {
        "id": "1p4BfIDFO1GC",
        "colab_type": "code",
        "colab": {
          "base_uri": "https://localhost:8080/",
          "height": 67
        },
        "outputId": "c1fd1e69-389c-4dd3-f4d3-0f78b7f9d1b5"
      },
      "source": [
        "#a Python program to remove a newline in Python.\n",
        "str1='python programming\\n'\n",
        "print(str1)\n",
        "print(str1.rstrip())"
      ],
      "execution_count": 17,
      "outputs": [
        {
          "output_type": "stream",
          "text": [
            "python programming\n",
            "\n",
            "python programming\n"
          ],
          "name": "stdout"
        }
      ]
    },
    {
      "cell_type": "code",
      "metadata": {
        "id": "rWElbgWIPfv9",
        "colab_type": "code",
        "colab": {
          "base_uri": "https://localhost:8080/",
          "height": 34
        },
        "outputId": "581df86c-c0fa-4558-9474-ca5dd5187b97"
      },
      "source": [
        "#a Python program to count occurrences of a substring in a string.\n",
        "string = \"computer language\" \n",
        "print(string.count(\"computer\")) "
      ],
      "execution_count": 18,
      "outputs": [
        {
          "output_type": "stream",
          "text": [
            "1\n"
          ],
          "name": "stdout"
        }
      ]
    },
    {
      "cell_type": "code",
      "metadata": {
        "id": "kSyZW38nQSoo",
        "colab_type": "code",
        "colab": {
          "base_uri": "https://localhost:8080/",
          "height": 34
        },
        "outputId": "5b9bc345-b910-4385-c855-b30967e9bc5e"
      },
      "source": [
        "#a Python program to convert a string in a list.\n",
        "def Convert(string): \n",
        "    li = list(string.split(\" \")) \n",
        "    return li     \n",
        "str1 = \"python exercises\"\n",
        "print(Convert(str1)) "
      ],
      "execution_count": 19,
      "outputs": [
        {
          "output_type": "stream",
          "text": [
            "['python', 'exercises']\n"
          ],
          "name": "stdout"
        }
      ]
    },
    {
      "cell_type": "code",
      "metadata": {
        "id": "tR74zr4GQpYh",
        "colab_type": "code",
        "colab": {
          "base_uri": "https://localhost:8080/",
          "height": 34
        },
        "outputId": "4c7917b5-d7f0-4ff3-fd54-4b34bb4193dc"
      },
      "source": [
        "#a Python program to perform Deletion of a character # Removes character at index i \n",
        "s = 'computer'\n",
        "\n",
        "print(s.replace('p', ''))"
      ],
      "execution_count": 23,
      "outputs": [
        {
          "output_type": "stream",
          "text": [
            "comuter\n"
          ],
          "name": "stdout"
        }
      ]
    },
    {
      "cell_type": "code",
      "metadata": {
        "id": "KSu5MAxrRonk",
        "colab_type": "code",
        "colab": {
          "base_uri": "https://localhost:8080/",
          "height": 168
        },
        "outputId": "77c88ab7-dcab-43d4-e6e6-38c702f8503d"
      },
      "source": [
        "#a program to print every character of a string entered by user in a new line using loop. \n",
        "w = input(\"Please enter Word: \")\n",
        "list = w.split()\n",
        "print(list)\n",
        "for r in list:\n",
        "    print(r, '\\t')"
      ],
      "execution_count": 31,
      "outputs": [
        {
          "output_type": "stream",
          "text": [
            "Please enter Word: gitam schools of enginerring\n",
            "['gitam', 'schools', 'of', 'enginerring']\n",
            "gitam \t\n",
            "schools \t\n",
            "of \t\n",
            "enginerring \t\n",
            "Please enter Word: gitam\n",
            "['gitam']\n",
            "gitam \t\n"
          ],
          "name": "stdout"
        }
      ]
    },
    {
      "cell_type": "code",
      "metadata": {
        "id": "i4GPB0qsXRlu",
        "colab_type": "code",
        "colab": {
          "base_uri": "https://localhost:8080/",
          "height": 34
        },
        "outputId": "3eebbcf5-8626-42b4-98fd-c8c0bd23a181"
      },
      "source": [
        "#a program to find the length of the string \"refrigerator\" without using len function. \n",
        "a = \"refrigerator\" \n",
        "count = 0 \n",
        "for i in a:\n",
        "   count = count+1 \n",
        "print (count)  "
      ],
      "execution_count": 32,
      "outputs": [
        {
          "output_type": "stream",
          "text": [
            "12\n"
          ],
          "name": "stdout"
        }
      ]
    }
  ]
}